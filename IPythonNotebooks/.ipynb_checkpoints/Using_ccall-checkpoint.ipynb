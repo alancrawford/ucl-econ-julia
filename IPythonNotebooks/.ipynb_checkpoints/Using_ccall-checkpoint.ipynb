{
 "cells": [
  {
   "cell_type": "markdown",
   "metadata": {
    "slideshow": {
     "slide_type": "slide"
    }
   },
   "source": [
    "# Introduction\n",
    "\n",
    "- An overview of the basics of calling C from Julia\n",
    "- Based on my limited 'learning by going' experience from the Sparse Grid Integration package I use as an example today\n",
    "- Just scratching the surface... \n",
    "\n",
    "#### Do I need C programming experience?\n",
    "\n",
    "- Not essential at all. Lots of online resources for both C and Julia for beginners.\n",
    "- Maybe only need to be able to small wrappers in C can make calling from Julia much easier. \n",
    "\n",
    "#### C resources:\n",
    "\n",
    "- [Online documentation](http://www.cprogramming.com/tutorial/c-tutorial.html)\n",
    "- ... ask google, stackoverflow, ... \n",
    "\n",
    "#### Julia docs:\n",
    "\n",
    "Lots more information in the documentation that will likely prove useful to call C from Julia.\n",
    "\n",
    "- [Stable Version 0.3.8](http://docs.julialang.org/en/release-0.3/manual/calling-c-and-fortran-code/)\n",
    "- [Latest Version 0.4](http://julia.readthedocs.org/en/latest/manual/calling-c-and-fortran-code/)\n"
   ]
  },
  {
   "cell_type": "markdown",
   "metadata": {
    "slideshow": {
     "slide_type": "slide"
    }
   },
   "source": [
    "# Why might you like to call C/Fortran from Julia?\n",
    "\n",
    "- Many mature, high-quality existing packages written in C (or Fortran)\n",
    "\n",
    "- The underlying package might be difficult/time consuming to (re)-code in Julia\n",
    "\n",
    "- C package may be very fast, well tested, few bugs etc.\n",
    "\n",
    "\n"
   ]
  },
  {
   "cell_type": "markdown",
   "metadata": {
    "slideshow": {
     "slide_type": "subslide"
    }
   },
   "source": [
    "# Calling C libraries from Julia\n",
    "\n",
    "- Can call C functions directly from shared C libraries using ccall\n",
    "\n",
    "- Shared C libraries called by (:function, \"library\") \n",
    "```\n",
    "    :function is the exported C function name\n",
    "    \"library\" is the name of the shared library\n",
    "```\n",
    "*If C library is available as a shared library only needs to be on system LOAD_PATH, Otherwise need to compile it and put the library on the LOAD_PATH. Will see in example later.*\n",
    "\n"
   ]
  },
  {
   "cell_type": "markdown",
   "metadata": {
    "slideshow": {
     "slide_type": "subslide"
    }
   },
   "source": [
    "# Using `ccall` \n",
    "\n",
    "- Easy to use \n",
    "    - Using `ccall` is like an ordinary function call, can use in REPL\n",
    "    - No 'glue' code needed\n",
    "\n",
    "```\n",
    "ccall( (:function, “library”), \n",
    "        Return Type (i.e. Int32),\n",
    "        Tuple of Input Types. (i.e. (Int32, Int64, ...) ),\n",
    "        Arguments to pass to C from Julia )\n",
    "```\n",
    "*Note: ccall automatically converts Julia type to C type. See Julia documentation for a list of type correspondences.*\n",
    "\n",
    "### Wrapping `ccall\n",
    "\n",
    "In practice, can be useful to wrap ccall() in a Julia function to:\n",
    "\n",
    "- Help re-usability\n",
    "- Setup arguments to pass to C\n",
    "- Check for errors from C and Fortran"
   ]
  },
  {
   "cell_type": "markdown",
   "metadata": {
    "slideshow": {
     "slide_type": "slide"
    }
   },
   "source": [
    "# Example: Sparse Grid Integration\n",
    "\n",
    "A Julia package that wraps for [John Burharkdt's C code](http://people.sc.fsu.edu/~jburkardt/c_src/sparse_grid_hw/sparse_grid_hw.html) to generate nodes and weights for  [sparse grid integration](www.sparse-grids.de).\n",
    "\n",
    "### Overview\n",
    "\n",
    "Approximate a $D$-variate integral of the form\n",
    "\n",
    "$$\\int_{\\Omega} g(x)f(x)dx$$\n",
    "\n",
    "where $\\Omega\\in D$ and $f(x)$ is a weighting function. A quadrature rule prescribes a $D\\times R$ matrix of nodes $X$ and a $R$-vector of weights $w$ depending on $\\Omega$ and $f$. The approximation is calculated as\n",
    "\n",
    "$$g(X)w$$\n",
    "\n",
    "The built-in families of integration rules are identified by a 3-letter key:\n",
    "\n",
    "- Rules for the unweighted integration: $\\Omega=\\left[0,1\\right]^D$, $f(x)=1$\n",
    "    - GQU: Univariate Gaussian quadrature rules as basis\n",
    "    - KPU: Univariate nested quadrature rules as basis - delayed Kronrod-Patterson rules, see Knut Petras (2003): \"Smolyak cubature of given polynomial degree with few nodes for increasing dimension.\" *Numerische Mathematik* 93, 729-753.\n",
    "- Rules for the integration over $\\Omega=\\mathbb{R}^D$ with Gaussian weight $f(x)=\\frac{\\exp\\left\\{ -x^{2}\\right\\} }{\\sqrt{2\\pi}}$\n",
    "    - GQN: Univariate Gaussian quadrature rules as basis\n",
    "    - KPN: Univariate nested quadrature rules as basis, see A. Genz and B. D. Keister (1996): \"Fully symmetric interpolatory rules for multiple integrals over infinite regions with Gaussian weight.\" *Journal of Computational and Applied Mathematics* 71, 299-309.\n",
    "    \n",
    "As a general rule, the versions with the nested univariate rules are more efficient in the sense that they require fewer nodes to achieve the same level of polynomial exactness."
   ]
  },
  {
   "cell_type": "markdown",
   "metadata": {
    "slideshow": {
     "slide_type": "slide"
    }
   },
   "source": [
    "# `ccall` in the package\n",
    "\n",
    "Two elements:\n",
    "\n",
    "1. The C-code that calculate nodes and weights for sparse grid integration\n",
    "2. Create Julia type for output of C-code\n",
    "    - use `ccall` in the constructor function.\n",
    "   "
   ]
  },
  {
   "cell_type": "markdown",
   "metadata": {
    "slideshow": {
     "slide_type": "subslide"
    }
   },
   "source": [
    "#### C-Code\n",
    "\n",
    "The C function I want to use, `nwspgr`, calls nested functions. [See lines 3377-3428 in 'sparse_grids_hw.c'](https://github.com/alancrawford/SparseGridsHW/blob/master/src/sparse_grid_hw_jl.c). \n",
    "\n",
    "Added 3 functions in C. [See lines 6061-6492 in 'sparse_grids_hw.c'](https://github.com/alancrawford/SparseGridsHW/blob/master/src/sparse_grid_hw_jl.c). These are the last 3 functions listed in the [header file: 'sparse_grids_hw.h'](https://github.com/alancrawford/SparseGridsHW/blob/master/src/sparse_grid_hw_jl.h). \n",
    "\n",
    "```\n",
    "1. int nwspgr_rule_size ( void rule ( int n, double x[], double w[] ), \n",
    "                    int rule_order ( int l ), int dim, int k, int r_size);\n",
    "2. int nwspgr_rule_size_wrapper (int rule , int d, int k);\n",
    "3. void nwspgr_wrapper (int rule , int d, int k, double x[], double w[]);\n",
    "```\n",
    "\n",
    "- Minimal knowledge of C. Essentially, minor adaptions to existing C code. "
   ]
  },
  {
   "cell_type": "markdown",
   "metadata": {
    "slideshow": {
     "slide_type": "subslide"
    }
   },
   "source": [
    "#### Constructor function\n",
    "\n",
    "In the [constructor function](https://github.com/alancrawford/SparseGridsHW/blob/master/src/sparse_grid_hw.jl) in Julia there are two `ccall`'s\n",
    "\n",
    "1. `ccall` for nwspgr_rule_size_wrapper() to tell Julia the correct size of the Array needed to store the nodes and weights. \n",
    "\n",
    "2. `ccall` for nwspgr_wrapper() is passed a pointer to correctly sized arrays created in Julia and fills them in with nodes and weights.\n",
    "    - Note: `ccall` on passes a reference location in memory of array, not the array itself. \n",
    "\n",
    "#### Why 2 `ccall`'s  here ?\n",
    "\n",
    "- Issue of memory allocation and garbage clean up\n",
    "    - `ccall` has nice functionality that it automatically cleans up memory after function is called. But only if output is conformable with Julia inputs. \n",
    "    - If not? Segmentation faults...\n",
    "    - General rule stated in Julia docs. The program that created the memory needs to clean it up. \n",
    "- In this case output is an array of nodes and a vector of weights.  "
   ]
  },
  {
   "cell_type": "markdown",
   "metadata": {
    "slideshow": {
     "slide_type": "slide"
    }
   },
   "source": [
    "## Create the shared C library and link to Julia\n",
    "\n",
    "Two steps:\n",
    "\n",
    "1. Compile the [C-code](https://github.com/alancrawford/SparseGridsHW/tree/master/src) to create C library\n",
    "2. Link library to Julia path\n",
    "\n",
    "#### Compiling C Code\n",
    "\n",
    "To use the code in Julia compile the C-code to create a dynamic library ready to be called by Julia.  If using the ['sparse_grids_hw_jl.sh'](https://github.com/alancrawford/SparseGridsHW/blob/master/src/sparse_grid_hw_jl.sh), it creates a dynamic library called 'sparselib.dylib' in a new folder, /lib.  \n",
    "\n",
    "#### Put library on Julia Load Path\n",
    "\n",
    "To enable Julia to find the newly created library, add the path where the library is stored to Julia's DL_LOAD_PATH. One way to do this is to add the line \n",
    "```\n",
    "        push!(Sys.DL_LOAD_PATH,\"[Path to new library's folder]\")\n",
    "```\n",
    "to ~/.juliarc.jl. "
   ]
  },
  {
   "cell_type": "markdown",
   "metadata": {
    "slideshow": {
     "slide_type": "slide"
    }
   },
   "source": [
    "# Calling in Julia\n",
    "\n",
    "To output nodes and weights specify which integration rule to use, the number of dimensions, and the level accuracy of the integration rule.  The constructor function is:\n",
    "```\n",
    "        nwspgr( rule, dims, level ) \n",
    "```\n",
    "where rule is one of {\"GQU\",\"KPU\",\"GQN\",\"KPN\"} and sgi is an instance of\n",
    "\n",
    "```\n",
    "type nwspgr\n",
    "    rule \t:: ASCIIString\n",
    "    dims \t:: Int64\n",
    "\tlevel\t:: Int64\n",
    "\tnodes\t:: Array{Float64,2}\n",
    "\tweights :: Vector{Float64}\n",
    "end\n",
    "```\n",
    "\n",
    "The maximum dimension supported by the code is 20. "
   ]
  },
  {
   "cell_type": "markdown",
   "metadata": {
    "slideshow": {
     "slide_type": "slide"
    }
   },
   "source": [
    "### Tests for SpaseGridsHW.jl \n",
    "\n",
    "Integral to approximate:\n",
    "\n",
    "$$\\mathcal{I}=\\int_{0}^{1}\\cdots\\int_{0}^{1}\\underbrace{{\\displaystyle \\prod_{d=1}^{D}\\frac{1}{\\sqrt{2\\pi\\sigma^{2}}}e^{-\\frac{1}{2}\\left(\\frac{x_{d}-\\mu}{\\sigma}\\right)^{2}}}}_{g(x)}dx_{D}\\cdots dx_{1}$$\n",
    "\n",
    "where $x_{d}\\sim N\\left(\\mu,\\sigma\\right)$. \n",
    "\n",
    "Let $\\mu=0$ and $\\sigma=2$, then the \"truth\":\n",
    "\n",
    "$$\\mathcal{I} =  \\frac{1}{2} \\operatorname{erf} \\left(\\frac{1}{ \\sigma\\sqrt{2}}\\right)$$\n",
    "\n",
    "because $\\Phi(x) = \\frac{1}{2}\\left(1+\\operatorname{erf}\\left(\\frac{x-\\mu}{ \\sigma\\sqrt{2}}\\right)\\right)$\n",
    "\n",
    "[Link to code](https://github.com/alancrawford/SparseGridsHW/blob/master/test/nwspgr_demo.jl)\n",
    "\n",
    "##### Overview of test\n",
    "- Rule: GQU or KPU since $\\Omega=\\left[0,1\\right]^{10}$, $f(x)=1$\n",
    "- Dimensions = 10\n",
    "- Vary accuracy: $k=\\left\\{2,3,4,5\\right\\}$\n",
    "- Compare to k-node MC integration"
   ]
  },
  {
   "cell_type": "code",
   "execution_count": 5,
   "metadata": {
    "collapsed": false,
    "slideshow": {
     "slide_type": "subslide"
    }
   },
   "outputs": [
    {
     "name": "stdout",
     "output_type": "stream",
     "text": [
      "*******************************\n",
      "Dimensions = 10, µ = 0, σ = 2\n",
      "*******************************\n"
     ]
    },
    {
     "data": {
      "text/plain": [
       "       Num. Nodes SG Error (%) SG time (secs) MC Error (%) MC time (secs)\n",
       "k = 2        21.0   0.00452901       2.643e-5  0.000695385      0.0475673\n",
       "k = 3       201.0  0.000118923      7.1189e-5  0.000516436       0.167563\n",
       "k = 4      1201.0   2.09585e-6    0.000378992   4.89139e-5        1.15009\n",
       "k = 5      5281.0   2.68308e-8     0.00162848   3.60787e-5         5.1699\n"
      ]
     },
     "execution_count": 5,
     "metadata": {},
     "output_type": "execute_result"
    }
   ],
   "source": [
    "include(\"./Git/SparseGridsHW/test/nwspgr_demo.jl\")"
   ]
  },
  {
   "cell_type": "markdown",
   "metadata": {
    "slideshow": {
     "slide_type": "slide"
    }
   },
   "source": [
    "### Test for MVRN integration\n",
    "\n",
    "Integral to approximate:\n",
    "\n",
    "$$\\mathcal{I}=\\int_{-\\infty}^{\\infty}\\cdots\\int_{-\\infty}^{\\infty}\\mathcal{P}(x)f\\left(x\\right)dx_{D}\\cdots dx_{1}$$\n",
    "\n",
    "where $\\mathcal{P}(x)=4x_{1}^{2}-3x_{2}^{3}+x_{3}^{9}-2x_{4}^{4}$ and $x\\sim N\\left(\\mu,\\Sigma\\right)$.\n",
    "\n",
    "[Link to code](https://github.com/alancrawford/SparseGridsHW/blob/master/test/nwspgr_mvrn.jl)\n",
    "\n",
    "##### Overview of test\n",
    "- Rule: Normal -> GQN or KPN\n",
    "- Dimensions = 4\n",
    "- Vary accuracy: $k=\\left\\{2,3,4,5\\right\\}$\n",
    "- Compare to MC"
   ]
  },
  {
   "cell_type": "code",
   "execution_count": 3,
   "metadata": {
    "collapsed": false,
    "slideshow": {
     "slide_type": "subslide"
    }
   },
   "outputs": [
    {
     "name": "stdout",
     "output_type": "stream",
     "text": [
      "         Dims   SG Nodes  SG err (%) MC err (%) SG time (secs) MC time (secs)\n",
      "k = 2       4.0      9.0    0.540809   0.129519      5.4884e-5      0.0140373\n",
      "k = 3       4.0     33.0   0.0923713  0.0115887       6.168e-5      0.0563394\n",
      "k = 4       4.0     81.0  0.00460975  0.0338236    0.000149697       0.211955\n",
      "k = 5       4.0    201.0 1.79813e-14   0.036803    0.000357382       0.594624\n",
      "\n",
      "Note: Number of draws for MC is 1000 of vectors of length of SG nodes\n",
      "\n"
     ]
    }
   ],
   "source": [
    "include(\"./Git/SparseGridsHW/test/nwspgr_mvrn.jl\")"
   ]
  },
  {
   "cell_type": "code",
   "execution_count": null,
   "metadata": {
    "collapsed": true
   },
   "outputs": [],
   "source": []
  }
 ],
 "metadata": {
  "celltoolbar": "Slideshow",
  "kernelspec": {
   "display_name": "Julia 0.3.8",
   "language": "julia",
   "name": "julia-0.3"
  },
  "language_info": {
   "name": "julia",
   "version": "0.3.8"
  }
 },
 "nbformat": 4,
 "nbformat_minor": 0
}
