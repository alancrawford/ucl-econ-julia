{
 "cells": [
  {
   "cell_type": "markdown",
   "metadata": {
    "slideshow": {
     "slide_type": "slide"
    }
   },
   "source": [
    "# <center>Julia Workshop </center> \n",
    "\n",
    "#### <center> _Alan Crawford, June 2016_</center>"
   ]
  },
  {
   "cell_type": "markdown",
   "metadata": {},
   "source": [
    "# Roadmap\n",
    "\n",
    "1. Introduction to Julia: what is Julia and why should i use it?\n",
    "2. Getting started and setting up Julia\n",
    "3. The basics of Julia\n",
    "4. Working with packages \n",
    "5. Developing your own code\n",
    "6. Julia for Economists"
   ]
  },
  {
   "cell_type": "markdown",
   "metadata": {},
   "source": [
    "# 1. Introduction to Julia\n",
    "\n",
    "* What is Julia?\n",
    "* Is Julia for me?\n"
   ]
  },
  {
   "cell_type": "markdown",
   "metadata": {},
   "source": [
    "## What is Julia?\n",
    "\n",
    "[Julia](http://julialang.org/) is a (relatively) new programming language aimed at the scientific computing community. It is a fast, open source, high productivity programming language. \n",
    "\n",
    "From the authors of Julia - [Why we created Julia](http://julialang.org/blog/2012/02/why-we-created-julia)\n",
    "\n",
    "> _\"We want a language that’s open source, with a liberal license. We want the speed of C with the dynamism of Ruby. We want a language that’s homoiconic, with true macros like Lisp, but with obvious, familiar mathematical notation like Matlab. We want something as usable for general programming as Python, as easy for statistics as R, as natural for string processing as Perl, as powerful for linear algebra as Matlab, as good at gluing programs together as the shell.\"_"
   ]
  },
  {
   "cell_type": "markdown",
   "metadata": {},
   "source": [
    "# Is Julia for me?\n",
    "\n",
    "For an interesting [overview](http://quant-econ.net/about_lectures.html) see the excellent [quant-econ.net](http://quant-econ.net/) project - a great learning resource for economists! Here are some of the key points...\n",
    "\n",
    "### Advantages of Julia\n",
    "\n",
    "[+] Open source and runs on all major platforms\n",
    "* Easy to install and run code on different platforms\n",
    "* No enforced migration to new versions (i.e. MATLAB)\n",
    "* Libraries are open source and easy to share, access and adapt though [Github](https://github.com/)\n",
    "\n",
    "[+] Julia features enable fast and flexible coding\n",
    "\n",
    "* [Multiple dispatch](http://quant-econ.net/jl/types_methods.html)\n",
    "* [Julia types](https://en.wikibooks.org/wiki/Introducing_Julia/Types)\n",
    "* [Metaprogramming](https://en.wikibooks.org/wiki/Introducing_Julia/Metaprogramming)\n",
    "\n",
    "[+] Great visualisation, data management, statistical and optimisation toolboxes actively maintained by Julia community \n",
    "\n",
    "[+] Easy to call other popular open source languages:\n",
    "\n",
    "* [RCall](https://github.com/JuliaStats/RCall.jl): R -> Julia\n",
    "* [PyCall](https://github.com/stevengj/PyCall.jl): Python -> Julia \n",
    "* [ccall](http://docs.julialang.org/en/release-0.4/manual/calling-c-and-fortran-code/?highlight=ccall): C/C++/Fortran to Julia\n",
    "\n",
    "### Disadvantages of Julia\n",
    "\n",
    "[-] Julia is a developing language, hence there are less mature 'pure' Julia libraries than in Python and R\n",
    "\n",
    "[-] Backwards compatibility can be an issue, but there are [Julia programs to mitigate this](https://github.com/JuliaLang/Compat.jl) already\n",
    "\n",
    "[-] By virtue of Julia being so young, it is less externally marketable skill than say R, MATLAB and Python... at the moment.\n",
    "\n",
    "[-] The [documentation](http://docs.julialang.org/en/release-0.4/) is extensive, but not all that user friendly... but lots of useful resources out there to get you started"
   ]
  },
  {
   "cell_type": "markdown",
   "metadata": {},
   "source": [
    "# The '2 language problem'?\n",
    "\n",
    "Existing code development approaches suffer from the so-called '2 language problem': \n",
    "\n",
    "> Develop in a dynamically typed language (Python, R, MATLAB) and (partially) execute in in a statically typed language (C/C++ or Fortran). Typically, the low level statically typed code does the 'heavy lifting' and is spliced into the dynamic language using a wrapper.\n",
    "\n",
    "* Issue with this existing approach:\n",
    "    * If exact low level code doesn't already exist, you still need to be able code in low level language as well as dynamic language of choice\n",
    "    * Duplicated effort to translate 'toy model' in dynamic language into statically typed language\n",
    "    * Wrapper code can be cumbersome and unreliable and expected performance gains do not always materialise\n",
    "    * Can get even more complicated to parallelise such code\n",
    "\n",
    "* Is Julia the answer?\n",
    "    - Dynamically typed, high productivity language: *minimise development time*\n",
    "    - Near C-speed performance: *Low runtime*\n",
    "    - If low level code exists, Julia has easy to use light-weight and reliable wrappers\n",
    "    - Only need ever code it up once - no translation needed\n",
    "    - Julia code is relatively easily to parallelize\n",
    "    \n",
    "... why not give a try and see!\n"
   ]
  },
  {
   "cell_type": "markdown",
   "metadata": {},
   "source": [
    "# 2. Getting started with Julia\n",
    "\n",
    "* Download Julia\n",
    "* Setting up your Julia Environment\n",
    "* What tools will help me be productive with Julia?"
   ]
  },
  {
   "cell_type": "markdown",
   "metadata": {},
   "source": [
    "## Downloading Julia\n",
    "\n",
    "- Go to the [Julia downloads page](http://julialang.org/downloads/) and download the command line binary matching corresponding to your operating system\n",
    "   \n",
    "- 2 download options:\n",
    "\n",
    "    1. The current release: this is the latest 'stable' release of Julia \n",
    "    2. Nightly builds: This is the bleeding edge release of Julia - use with care...\n",
    "\n",
    "Most likely you will want option 1 - at least to start out with.  \n",
    "    \n",
    "- If you have any installation problems check out [Platform specific download instructions](http://julialang.org/downloads/platform.html)"
   ]
  },
  {
   "cell_type": "markdown",
   "metadata": {},
   "source": [
    "## Setting up your Julia Environment\n",
    "\n",
    "### Juno\n",
    "\n",
    "Many of you will be used to working with Integrated Development Environment (IDEs) in Stata, MATLAB, and RStudio. If this is your preferred way to work you may like to try out [Juno](http://junolab.org/)\n",
    "\n",
    "![alt text](http://junolab.org/images/screenshot.png \"Juno IDE\")\n",
    "\n",
    "\n",
    "### Terminal + Text Editor\n",
    "\n",
    "Perhaps the most flexible way of working is to use a text editor together with the terminal.\n",
    "\n",
    "#### The Terminal\n",
    "\n",
    "Open Julia either at the command line or by double clicking the icon. You should see a Julia terminal:\n",
    "\n",
    "![alt](JuliaTermShot.png)\n",
    "\n",
    "#### Text Editor\n",
    "\n",
    "Many text editor choices include VIM, Emacs, LightTable, Notepad++, Atom...\n",
    "\n",
    "My personal preference:\n",
    "\n",
    "* [Sublime Text](https://www.sublimetext.com/): Cross platform text editor. Once downloaded open Sublime Text. Then:\n",
    "    1. Install `Package Control` in Sublime Text\n",
    "    2. `Cmd+Shift+p` to open `Package Control`\n",
    "        2a. Select `Install Packages`\n",
    "    3. In the `Package Control: Install Packages` window type:\n",
    "        * `Julia` then select the Julia package for text highlighting. \n",
    "        * `SendTextPlus` and install the package. This allows you to highlight text in Sublime Text and cmd+Enter sends it Terminal. If terminal is Julia REPL, this runs Julia code.\n",
    "\n",
    "* When you open .jl files in Sublime Text you will have Julia highlighting and have an interactive development environment \n",
    "\n",
    "![alt](SublimeShot.png)\n",
    "\n",
    "* Other .... \n",
    "\n",
    "### jupyter\n",
    "\n",
    "Another good way to commumicate Julia code is using [Jupyter Notebook](http://jupyter.org/). "
   ]
  },
  {
   "cell_type": "markdown",
   "metadata": {},
   "source": [
    "## Other tools for use with Julia\n",
    "\n",
    "* Julia package management is hosted by Github. Knowing a little Github will help a lot - especially developing your own packages/code\n",
    "\n",
    "* You will find it very useful to know how to use the UNIX shell.\n",
    "    * [Software Carpentry](https://www.ucl.ac.uk/isd/services/research-it/training/courses/software-carpentry-workshop) workshop at UCL\n",
    "    * Use google! \n",
    "    \n",
    "* Related to UNIX shell, it is also useful to get to know the basics of its text editor, [VI](http://ex-vi.sourceforge.net/)\n",
    "    * Clunky, but convenient - especially when working on HPC cluster"
   ]
  },
  {
   "cell_type": "markdown",
   "metadata": {},
   "source": [
    "# 3. The basics of Julia\n",
    "\n",
    "Once you have Julia environment setup you might like to familiarise yourself with basic building blocks of coding in Julia.\n",
    "\n",
    "* Learning the basics: Online resources and books\n",
    "* Julia vs MATLAB: Additional features and operational differences\n",
    "* The big difference: Julia Types"
   ]
  },
  {
   "cell_type": "markdown",
   "metadata": {},
   "source": [
    "## Learning the basics: online resources and books\n",
    "\n",
    "Here are two resources that provide a really nice introduction to the basics of Julia for beginners. \n",
    "\n",
    "**Quant-Econ.net** has an excellent introduction to Julia:\n",
    "- [Julia Essentials](http://quant-econ.net/jl/julia_essentials.html)\n",
    "- [Vector, Arrays and Matrices](http://quant-econ.net/jl/julia_arrays.html)\n",
    "- [Types, Methods and Performance](http://quant-econ.net/jl/types_methods.html)\n",
    "\n",
    "**'Introducing Julia'** [Wiki Book](https://en.wikibooks.org/wiki/Introducing_Julia)\n",
    "\n",
    "You may also find [Getting started with Julia](https://www.packtpub.com/application-development/getting-started-julia) a useful resource. "
   ]
  },
  {
   "cell_type": "markdown",
   "metadata": {},
   "source": [
    "## Julia vs MATLAB\n",
    "\n",
    "Julia looks like MATLAB... However, there are some additional features  \n",
    "\n",
    "* Strings\n",
    "* Dictionaries\n",
    "* Comprehensions\n",
    "* Metaprogramming\n",
    "\n",
    "and important operational differences....\n",
    "\n",
    "* Vectorisation is not necessary/desirable to write perfomant code - use loops. \n",
    "* Assignment and mutation"
   ]
  },
  {
   "cell_type": "markdown",
   "metadata": {},
   "source": [
    "### Additional Features:\n",
    "\n",
    "#### Strings\n",
    "\n",
    "MATLAB always been a bit clunky with strings, however Julia works very nicely with strings"
   ]
  },
  {
   "cell_type": "code",
   "execution_count": 1,
   "metadata": {
    "collapsed": false
   },
   "outputs": [
    {
     "data": {
      "text/plain": [
       "\"Today: 2 June 2016\""
      ]
     },
     "execution_count": 1,
     "metadata": {},
     "output_type": "execute_result"
    }
   ],
   "source": [
    "day = 2\n",
    "year = 2016\n",
    "date = \"Today: $day June $year\" # Strings and interpolation"
   ]
  },
  {
   "cell_type": "markdown",
   "metadata": {},
   "source": [
    "#### Dictionaries\n",
    "\n",
    "Dictionaries can be useful ways to store and recall information. "
   ]
  },
  {
   "cell_type": "code",
   "execution_count": 10,
   "metadata": {
    "collapsed": false
   },
   "outputs": [
    {
     "data": {
      "text/plain": [
       "Dict{ASCIIString,Any} with 5 entries:\n",
       "  \"Product\"        => \"iPhone\"\n",
       "  \"Network\"        => \"O2\"\n",
       "  \"ContractMonths\" => 12\n",
       "  \"Price\"          => 600\n",
       "  \"Name\"           => \"John Smith\""
      ]
     },
     "execution_count": 10,
     "metadata": {},
     "output_type": "execute_result"
    }
   ],
   "source": [
    "Customer = Dict(\"Name\"=>\"John Smith\", \"Product\"=>\"iPhone\", \"Price\"=>600, \"Network\"=>\"O2\", \"ContractMonths\"=>12)"
   ]
  },
  {
   "cell_type": "code",
   "execution_count": 11,
   "metadata": {
    "collapsed": false
   },
   "outputs": [
    {
     "data": {
      "text/plain": [
       "\"John Smith\""
      ]
     },
     "execution_count": 11,
     "metadata": {},
     "output_type": "execute_result"
    }
   ],
   "source": [
    "Customer[\"Name\"]"
   ]
  },
  {
   "cell_type": "markdown",
   "metadata": {},
   "source": [
    "As we will see later on, a vector of dictionary entries like this looks a lot like a Dataset in Stata or a DataFrame in R."
   ]
  },
  {
   "cell_type": "markdown",
   "metadata": {},
   "source": [
    "#### Comprehensions\n",
    "\n",
    "Elegant way to combine formulas and loops to define multidimensional Arrays (and Arrays of Arrays)"
   ]
  },
  {
   "cell_type": "code",
   "execution_count": 19,
   "metadata": {
    "collapsed": false
   },
   "outputs": [
    {
     "data": {
      "text/plain": [
       "5x5 Array{Int64,2}:\n",
       "  3  12   27   48   75\n",
       "  6  24   54   96  150\n",
       "  9  36   81  144  225\n",
       " 12  48  108  192  300\n",
       " 15  60  135  240  375"
      ]
     },
     "execution_count": 19,
     "metadata": {},
     "output_type": "execute_result"
    }
   ],
   "source": [
    "[3i*j.^2 for i in 1:5, j in 1:5] # Create a Matrix using a Comprehension"
   ]
  },
  {
   "cell_type": "code",
   "execution_count": 20,
   "metadata": {
    "collapsed": false
   },
   "outputs": [
    {
     "data": {
      "text/plain": [
       "3x4x2 Array{Int64,3}:\n",
       "[:, :, 1] =\n",
       " 1  2  3   4\n",
       " 2  4  6   8\n",
       " 3  6  9  12\n",
       "\n",
       "[:, :, 2] =\n",
       " 2   4   6   8\n",
       " 4   8  12  16\n",
       " 6  12  18  24"
      ]
     },
     "execution_count": 20,
     "metadata": {},
     "output_type": "execute_result"
    }
   ],
   "source": [
    "[i*j*k for i in 1:3, j in 1:4, k in 1:2] # Create an 3D-Array using a Comprehensions"
   ]
  },
  {
   "cell_type": "code",
   "execution_count": 22,
   "metadata": {
    "collapsed": false
   },
   "outputs": [
    {
     "data": {
      "text/plain": [
       "3x4x2 Array{Int64,3}:\n",
       "[:, :, 1] =\n",
       "  4   7  10  13\n",
       "  7  13  19  25\n",
       " 10  19  28  37\n",
       "\n",
       "[:, :, 2] =\n",
       "  5   8  11  14\n",
       "  8  14  20  26\n",
       " 11  20  29  38"
      ]
     },
     "execution_count": 22,
     "metadata": {},
     "output_type": "execute_result"
    }
   ],
   "source": [
    "myelement(i,j,k) = 3i*j + k # this is an inline function \n",
    "[myelement(i,j,k) for i in 1:3, j in 1:4, k in 1:2] # Combine function to define elements with Comprehension"
   ]
  },
  {
   "cell_type": "markdown",
   "metadata": {},
   "source": [
    "#### MetaProgramming\n",
    "\n",
    "Julia works in two stages: (1) is parses the Julia code and (2) it executes the parsed Julia code. \n",
    "\n",
    "[MetaProgramming](http://docs.julialang.org/en/latest/manual/metaprogramming/) allows the Julia user to intervene after stage (1). \n",
    "\n",
    "* What is the big deal? Julia code can generate Julia code at stage (1) which is executed at stage (2).\n",
    "* Why is this good? Can write succinct and clear code that avoids repetition of lines of coding\n",
    "\n",
    "The most common example of metaprogramming you will encounter are **macros**. Macros in Julia are prefixed with `@` and appear at the start of the line of code. \n",
    "\n",
    "For example, there is a macro that times code execution:"
   ]
  },
  {
   "cell_type": "code",
   "execution_count": 32,
   "metadata": {
    "collapsed": false
   },
   "outputs": [
    {
     "name": "stdout",
     "output_type": "stream",
     "text": [
      "  0.000111 seconds (100 allocations: 87.500 KB)\n"
     ]
    }
   ],
   "source": [
    "@time for n in 1:100 \n",
    "    x = [i*j*n for i in 1:10, j in 1:10] \n",
    "end "
   ]
  },
  {
   "cell_type": "markdown",
   "metadata": {},
   "source": [
    "There are many macros available and you can write your own. Here are some existing you might find useful:\n",
    "\n",
    "* [Base.Cartesian](http://julia.readthedocs.io/en/latest/devdocs/cartesian/?highlight=base.cartesian#module-Base.Cartesian) for multi-dimensional code\n",
    "* [Generated functions](http://docs.julialang.org/en/latest/manual/metaprogramming/#generated-functions) allows the user to specify dimensions of functions through inputs\n",
    "\n",
    "However, it is worth noting that [Julia's flexible iterators](http://julialang.org/blog/2016/02/iteration) may provide an alternative and more elegant way to achieve similar results. "
   ]
  },
  {
   "cell_type": "markdown",
   "metadata": {},
   "source": [
    "### Operational differences\n",
    "\n",
    "#### No need to vectorize\n",
    "\n",
    "One major criticism of MATLAB has been the need to vectorise code to improve performance. \n",
    "\n",
    "* Vectorization is not intuitive, slows development time\n",
    "* Debugging vectorized code is not fun\n",
    "* Translation within MATLAB\n",
    "\n",
    "... although loops have got better over time.\n",
    "\n",
    "However, Julia loves loops. In fact it prefers them! \n",
    "\n",
    "* Intuitive coding, speed up development time\n",
    "* Julia has lots of tools to make coding in loops easier \n",
    "    * Arrays are iterable, \n",
    "    * Dictionaries are iterable\n",
    "    * MetaProgramming can be used to design loops whose dimension is not known at run time\n",
    "    * Dynamic building of arrays using `push!` and `append!` is very useful in practice\n"
   ]
  },
  {
   "cell_type": "markdown",
   "metadata": {},
   "source": [
    "#### A gotcha: Assignment and mutation\n",
    "\n",
    "Although Julia has MATLAB like syntax there are some important conceptual differences. In particular, the concepts of assignment and mutation in Julia lead to radically different output despite have similar input. \n",
    "\n",
    "Failing to recognise that unintentional mutation has happened is an easy mistake to make especially for a MATLAB convert... \n",
    "\n",
    "So what is assignment and mutation? The best way to illustrate is by example..."
   ]
  },
  {
   "cell_type": "code",
   "execution_count": 13,
   "metadata": {
    "collapsed": false
   },
   "outputs": [
    {
     "data": {
      "text/plain": [
       "4-element Array{Float64,1}:\n",
       " 1.0\n",
       " 2.0\n",
       " 3.0\n",
       " 4.0"
      ]
     },
     "execution_count": 13,
     "metadata": {},
     "output_type": "execute_result"
    }
   ],
   "source": [
    "# Suppose we intend to make a copy of the vector, a. In MATLAB we might do something like this:\n",
    "a = [1.:4.]\n",
    "a1 = a"
   ]
  },
  {
   "cell_type": "code",
   "execution_count": 14,
   "metadata": {
    "collapsed": false
   },
   "outputs": [
    {
     "data": {
      "text/plain": [
       "5.0"
      ]
     },
     "execution_count": 14,
     "metadata": {},
     "output_type": "execute_result"
    }
   ],
   "source": [
    "a[4] = 5. # Now suppose we change or 'mutate' the contents of the 4th element of a, a[4], to 5."
   ]
  },
  {
   "cell_type": "code",
   "execution_count": 15,
   "metadata": {
    "collapsed": false
   },
   "outputs": [
    {
     "data": {
      "text/plain": [
       "4-element Array{Float64,1}:\n",
       " 1.0\n",
       " 2.0\n",
       " 3.0\n",
       " 5.0"
      ]
     },
     "execution_count": 15,
     "metadata": {},
     "output_type": "execute_result"
    }
   ],
   "source": [
    "# Now look at a1\n",
    "a1"
   ]
  },
  {
   "cell_type": "markdown",
   "metadata": {},
   "source": [
    "We can see `a1[4]=5.0`, even though we changed `a[4] = 5.0`, not `a1`. What happened?!? Answer: nothing.\n",
    "\n",
    "This is actually very sensible. Unlike MATLAB, Julia does NOT make a new vector `a1`. Instead, it creates a reference that points to the original vector `a` in memory. So if the contents of `a` change or 'mutate', then the contents of `a1` must also change since both variables are bound to the same object in memory. \n",
    "\n",
    "Why is this good? \n",
    "* Prevents rapid expansion of superfluous objects in memory - collecting up the garbage takes time and should be avoided! \n",
    "* Clear distinction between the objects, `a` and `a1` and their contents. This can actually help write efficient Julia code.\n",
    "\n",
    "But, can i make a copy if i want to? Yes..."
   ]
  },
  {
   "cell_type": "code",
   "execution_count": 16,
   "metadata": {
    "collapsed": false
   },
   "outputs": [
    {
     "data": {
      "text/plain": [
       "4-element Array{Float64,1}:\n",
       " 1.0\n",
       " 2.0\n",
       " 3.0\n",
       " 5.0"
      ]
     },
     "execution_count": 16,
     "metadata": {},
     "output_type": "execute_result"
    }
   ],
   "source": [
    "a2 = deepcopy(a) # deepcopy() creates an entirely independent copy of a. \n",
    "                 # It creates new contents and assigns a new variable binding `a2` to them"
   ]
  },
  {
   "cell_type": "code",
   "execution_count": 17,
   "metadata": {
    "collapsed": false
   },
   "outputs": [
    {
     "data": {
      "text/plain": [
       "100"
      ]
     },
     "execution_count": 17,
     "metadata": {},
     "output_type": "execute_result"
    }
   ],
   "source": [
    "a[3] = 100 # Let's do a new test by mutating, a[3] = 100."
   ]
  },
  {
   "cell_type": "code",
   "execution_count": 18,
   "metadata": {
    "collapsed": false
   },
   "outputs": [
    {
     "data": {
      "text/plain": [
       "4x3 Array{Float64,2}:\n",
       "   1.0    1.0  1.0\n",
       "   2.0    2.0  2.0\n",
       " 100.0  100.0  3.0\n",
       "   5.0    5.0  5.0"
      ]
     },
     "execution_count": 18,
     "metadata": {},
     "output_type": "execute_result"
    }
   ],
   "source": [
    "# Let's see what happened to the vectors [a, a1, a2]\n",
    "hcat(a,a1,a2)"
   ]
  },
  {
   "cell_type": "markdown",
   "metadata": {},
   "source": [
    "As expected, a1 reflects the change a[3] but a2 remains unchanged. "
   ]
  },
  {
   "cell_type": "markdown",
   "metadata": {},
   "source": [
    "##### So what is assignment and what is mutation?\n",
    "\n",
    "The best explanation is in this [post](http://stackoverflow.com/questions/33002572/creating-copies-in-julia-with-operator) ... here are the key points:\n",
    "\n",
    "**Assignment** looks like `x = ...` – what's left of the `=` is an identifier, i.e. a variable name. Assignment changes which object the variable `x` refers to (this is called a variable binding). It does not mutate any objects at all.\n",
    "\n",
    "**Mutation**. There are two typical ways to mutate something in Julia: \n",
    "* `x.f = ...` – what's left of the `=` is a field access expression;\n",
    "* `x[i] = ...` – what's left of the `=` is an indexing expression. \n",
    "    \n",
    "Key Take Aways:\n",
    "* Understanding assignment and mutation can help you write very fast julia code (i.e. re-using variable bindings and mutating the contents can help minimise costly garbage collection)!\n",
    "* However, beware of inadvertent assignment when coding and always run tests to make sure your code does what you expect it to!"
   ]
  },
  {
   "cell_type": "markdown",
   "metadata": {},
   "source": [
    "## Julia Types\n",
    "\n",
    "A major different between Julia and other languages is its Type system. It is helpful to think of two sets of types:\n",
    "\n",
    "* Common or Primitive data types\n",
    "* User defined types"
   ]
  },
  {
   "cell_type": "markdown",
   "metadata": {},
   "source": [
    "### Primitive data types\n",
    "\n",
    "Below is a diagram showing Julia's primitive type hierarchy\n",
    "\n",
    "![alt](JuliaTypes.png)\n",
    "\n",
    "In addition to the above you will also likely use:\n",
    "\n",
    "* Strings (i.e. AbstractString, ASCIIString) - we already saw these above\n",
    "* Bool types (i.e. true, false) - useful for setting options in functions\n",
    "\n",
    "Any user of statically typed languages will be very familiar with primitive data types - these languages will not compile unless every object's type is specified. This can make developing code slow and not so much fun to debug! However, this is also one reason they are so fast...\n",
    "\n",
    "In contrast, programs such as R, MATLAB and Python take care of types in the backend\n",
    "\n",
    "[+] High producitivity - easy to develop in\n",
    "\n",
    "[-] Process of checking types and turning program inputs into machine code significantly slows them down...\n",
    "\n",
    "##### Is Julia really faster?\n",
    "\n",
    "![alt+text](http://istc-bigdata.org/wp-content/uploads/2013/12/ISTC_Big_Data_Blog_Julia-Language-Benchmark-JChen-1024x558.png \"Speed benchmarks\")\n",
    "__Source: [ISTC-Bigdata.org](http://istc-bigdata.org/wp-content/uploads/2013/12/ISTC_Big_Data_Blog_Julia-Language-Benchmark-JChen-1024x558.png)__ "
   ]
  },
  {
   "cell_type": "markdown",
   "metadata": {},
   "source": [
    "#### Developing in Julia: When to specify types \n",
    "\n",
    "To develop in Julia you do not *NEED* to specify primitive types.\n",
    "\n",
    "* You can (and should) develop in Julia just as you would in MATLAB, R or Python without specifying types.\n",
    "* Enables high-productivity development\n",
    "\n",
    "Only once code is finalised might you add types to make the [Type stable](http://docs.julialang.org/en/release-0.4/manual/performance-tips/#write-type-stable-functions) code. This helps Julia compile fast machine code.\n",
    "\n",
    "We will see an example in a few slides..."
   ]
  },
  {
   "cell_type": "markdown",
   "metadata": {},
   "source": [
    "### User defined Types\n",
    "\n",
    "A key part of Julia is that users can define their own types. This is perhaps best illustrated by an example.\n",
    "\n",
    "Below we will make a user type for a user type called `poly` with three fields: `basis`, `coef`, and `value`."
   ]
  },
  {
   "cell_type": "code",
   "execution_count": 44,
   "metadata": {
    "collapsed": false
   },
   "outputs": [],
   "source": [
    "type mypoly\n",
    "    basis\n",
    "    coef\n",
    "    value\n",
    "end"
   ]
  },
  {
   "cell_type": "markdown",
   "metadata": {},
   "source": [
    "Now lets make an instance of poly:"
   ]
  },
  {
   "cell_type": "code",
   "execution_count": 45,
   "metadata": {
    "collapsed": false
   },
   "outputs": [
    {
     "data": {
      "text/plain": [
       "mypoly([3.976971899565107,0.10260209767688155,0.7076203275488768,0.9233391418248682,4.3411191250057914,3.435688209021418,1.0806314554976437,4.907022692550345,1.1973525029889964,1.018414809995568],[0.6367916538215455,0.767010373695862,0.6784982748622173,0.4533470498135985,0.0010983604335135233,0.8003197421950976,0.8434286620164058,0.8454246458745913,0.39215733194269564,0.7599911355264124],12.56781910466461)"
      ]
     },
     "execution_count": 45,
     "metadata": {},
     "output_type": "execute_result"
    }
   ],
   "source": [
    "B = 5*rand(10) # Basis Vector\n",
    "θ = rand(10)   # Coefficients\n",
    "P = mypoly(B,θ,dot(B,θ)) # Make an instance of Poly"
   ]
  },
  {
   "cell_type": "markdown",
   "metadata": {},
   "source": [
    "To access the fields of the type can use P.fieldname"
   ]
  },
  {
   "cell_type": "code",
   "execution_count": 48,
   "metadata": {
    "collapsed": false
   },
   "outputs": [
    {
     "data": {
      "text/plain": [
       "10-element Array{Float64,1}:\n",
       " 3.97697 \n",
       " 0.102602\n",
       " 0.70762 \n",
       " 0.923339\n",
       " 4.34112 \n",
       " 3.43569 \n",
       " 1.08063 \n",
       " 4.90702 \n",
       " 1.19735 \n",
       " 1.01841 "
      ]
     },
     "execution_count": 48,
     "metadata": {},
     "output_type": "execute_result"
    }
   ],
   "source": [
    "P.basis"
   ]
  },
  {
   "cell_type": "code",
   "execution_count": 50,
   "metadata": {
    "collapsed": false
   },
   "outputs": [
    {
     "data": {
      "text/plain": [
       "10-element Array{Float64,1}:\n",
       " 0.636792  \n",
       " 0.76701   \n",
       " 0.678498  \n",
       " 0.453347  \n",
       " 0.00109836\n",
       " 0.80032   \n",
       " 0.843429  \n",
       " 0.845425  \n",
       " 0.392157  \n",
       " 0.759991  "
      ]
     },
     "execution_count": 50,
     "metadata": {},
     "output_type": "execute_result"
    }
   ],
   "source": [
    "P.coef"
   ]
  },
  {
   "cell_type": "markdown",
   "metadata": {},
   "source": [
    "As stated above the `poly` could allow any type. However, if we want to help Julia compile efficient code we might give it more information by making a new **type stable** version of `poly` called `poly2`. \n",
    "\n",
    "\n",
    "```julia\n",
    "type poly2\n",
    "    basis :: Vector{Float64}\n",
    "    coef  :: Vector{Float64}\n",
    "    value :: Float64\n",
    "end\n",
    "```\n",
    "\n",
    "where `::` can be taken to mean 'is an instance of'. \n",
    "\n",
    "Above I suggested that making code type stable could speeds the code up ... Let's test:"
   ]
  },
  {
   "cell_type": "code",
   "execution_count": 121,
   "metadata": {
    "collapsed": false
   },
   "outputs": [],
   "source": [
    "# Define a new more tightly parameterised type\n",
    "type poly2\n",
    "    basis :: Vector{Float64}\n",
    "    coef  :: Vector{Float64}\n",
    "    value :: Float64\n",
    "end\n",
    "\n",
    "# Function to wrap loop to calculate N instances of times D-dimensional poly2\n",
    "function calcpoly(D::Int64,N::Int64)\n",
    "    B = rand(D)\n",
    "    θ = rand(D)\n",
    "    for n = 1:N\n",
    "        fill!(B,rand())\n",
    "        fill!(θ,rand())\n",
    "        poly(B,θ,dot(B,θ))\n",
    "    end\n",
    "end\n",
    "\n",
    "# Function to wrap loop to calculate N instances of times D-dimensional poly2\n",
    "function calcpoly2(D::Int64,N::Int64)\n",
    "    B = rand(D)\n",
    "    θ = rand(D)\n",
    "    for n = 1:N\n",
    "        fill!(B,rand())\n",
    "        fill!(θ,rand())\n",
    "        poly2(B,θ,dot(B,θ))\n",
    "    end\n",
    "end\n",
    "\n",
    "# Before benchmarking ALWAYS compile the code...\n",
    "calcpoly(10,1)\n",
    "calcpoly2(10,1)"
   ]
  },
  {
   "cell_type": "code",
   "execution_count": 141,
   "metadata": {
    "collapsed": true
   },
   "outputs": [],
   "source": [
    "Pkg.add(\"BenchmarkTools\") # Download a new package that is more accurate the @time macro, more on packages in a few slides"
   ]
  },
  {
   "cell_type": "code",
   "execution_count": 143,
   "metadata": {
    "collapsed": false
   },
   "outputs": [
    {
     "data": {
      "text/plain": [
       "================ Benchmark Results ========================\n",
       "     Time per evaluation: 58.92 μs [56.56 μs, 61.28 μs]\n",
       "Proportion of time in GC: 3.18% [2.04%, 4.33%]\n",
       "        Memory allocated: 47.19 kb\n",
       "   Number of allocations: 2004 allocations\n",
       "       Number of samples: 4501\n",
       "   Number of evaluations: 146001\n",
       "         R² of OLS model: 0.833\n",
       " Time spent benchmarking: 10.72 s\n"
      ]
     },
     "execution_count": 143,
     "metadata": {},
     "output_type": "execute_result"
    }
   ],
   "source": [
    "using BenchmarkTools # Load BenchmarkTools package into scope\n",
    "@benchmark calcpoly(10,1000)"
   ]
  },
  {
   "cell_type": "code",
   "execution_count": 144,
   "metadata": {
    "collapsed": false
   },
   "outputs": [
    {
     "data": {
      "text/plain": [
       "================ Benchmark Results ========================\n",
       "     Time per evaluation: 51.60 μs [50.05 μs, 53.15 μs]\n",
       "Proportion of time in GC: 1.94% [1.09%, 2.78%]\n",
       "        Memory allocated: 31.56 kb\n",
       "   Number of allocations: 1004 allocations\n",
       "       Number of samples: 4601\n",
       "   Number of evaluations: 160601\n",
       "         R² of OLS model: 0.897\n",
       " Time spent benchmarking: 10.54 s\n"
      ]
     },
     "execution_count": 144,
     "metadata": {},
     "output_type": "execute_result"
    }
   ],
   "source": [
    "@benchmark calcpoly2(10,1000)"
   ]
  },
  {
   "cell_type": "markdown",
   "metadata": {},
   "source": [
    "#### What if specifying types leads to overly restrictive code, but I still want speed?\n",
    "\n",
    "Answer: [Multiple dispatch](http://docs.julialang.org/en/release-0.4/manual/methods/)! \n",
    "\n",
    "You can write multiple versions of type stable functions and Julia will figure out which version of the function it should 'dispatch' at runtime. "
   ]
  },
  {
   "cell_type": "markdown",
   "metadata": {},
   "source": [
    "# 4. Working with Julia: Packages\n",
    "\n",
    "Julia uses packages (also called libraries) that provide the user with lots of great functionality without re-inventing the wheel. \n",
    "\n",
    "Like R, these packages and be installed, removed and loaded from within Julia.\n",
    "\n",
    "If the package is part of [Julia Official Package](http://pkg.julialang.org) list can do Pkg.add(\"PackageName\"), Otherwise can use Pkg.clone(\"GithubURL\") or Fork it directly from Github page."
   ]
  },
  {
   "cell_type": "code",
   "execution_count": 52,
   "metadata": {
    "collapsed": true
   },
   "outputs": [],
   "source": [
    "Pkg.add(\"GLM\") # Add Generalized linear modelling package\n",
    "Pkg.add(\"RDatasets\") #  RDatasets"
   ]
  },
  {
   "cell_type": "markdown",
   "metadata": {},
   "source": [
    "Now lets using the GLM package to do a regression using an example from [GLM Github page](https://github.com/JuliaStats/GLM.jl)"
   ]
  },
  {
   "cell_type": "code",
   "execution_count": 56,
   "metadata": {
    "collapsed": false
   },
   "outputs": [
    {
     "data": {
      "text/html": [
       "<table class=\"data-frame\"><tr><th></th><th>Country</th><th>SR</th><th>Pop15</th><th>Pop75</th><th>DPI</th><th>DDPI</th></tr><tr><th>1</th><td>Australia</td><td>11.43</td><td>29.35</td><td>2.87</td><td>2329.68</td><td>2.87</td></tr><tr><th>2</th><td>Austria</td><td>12.07</td><td>23.32</td><td>4.41</td><td>1507.99</td><td>3.93</td></tr><tr><th>3</th><td>Belgium</td><td>13.17</td><td>23.8</td><td>4.43</td><td>2108.47</td><td>3.82</td></tr><tr><th>4</th><td>Bolivia</td><td>5.75</td><td>41.89</td><td>1.67</td><td>189.13</td><td>0.22</td></tr><tr><th>5</th><td>Brazil</td><td>12.88</td><td>42.19</td><td>0.83</td><td>728.47</td><td>4.56</td></tr><tr><th>6</th><td>Canada</td><td>8.79</td><td>31.72</td><td>2.85</td><td>2982.88</td><td>2.43</td></tr><tr><th>7</th><td>Chile</td><td>0.6</td><td>39.74</td><td>1.34</td><td>662.86</td><td>2.67</td></tr><tr><th>8</th><td>China</td><td>11.9</td><td>44.75</td><td>0.67</td><td>289.52</td><td>6.51</td></tr><tr><th>9</th><td>Colombia</td><td>4.98</td><td>46.64</td><td>1.06</td><td>276.65</td><td>3.08</td></tr><tr><th>10</th><td>Costa Rica</td><td>10.78</td><td>47.64</td><td>1.14</td><td>471.24</td><td>2.8</td></tr><tr><th>11</th><td>Denmark</td><td>16.85</td><td>24.42</td><td>3.93</td><td>2496.53</td><td>3.99</td></tr><tr><th>12</th><td>Ecuador</td><td>3.59</td><td>46.31</td><td>1.19</td><td>287.77</td><td>2.19</td></tr><tr><th>13</th><td>Finland</td><td>11.24</td><td>27.84</td><td>2.37</td><td>1681.25</td><td>4.32</td></tr><tr><th>14</th><td>France</td><td>12.64</td><td>25.06</td><td>4.7</td><td>2213.82</td><td>4.52</td></tr><tr><th>15</th><td>Germany</td><td>12.55</td><td>23.31</td><td>3.35</td><td>2457.12</td><td>3.44</td></tr><tr><th>16</th><td>Greece</td><td>10.67</td><td>25.62</td><td>3.1</td><td>870.85</td><td>6.28</td></tr><tr><th>17</th><td>Guatamala</td><td>3.01</td><td>46.05</td><td>0.87</td><td>289.71</td><td>1.48</td></tr><tr><th>18</th><td>Honduras</td><td>7.7</td><td>47.32</td><td>0.58</td><td>232.44</td><td>3.19</td></tr><tr><th>19</th><td>Iceland</td><td>1.27</td><td>34.03</td><td>3.08</td><td>1900.1</td><td>1.12</td></tr><tr><th>20</th><td>India</td><td>9.0</td><td>41.31</td><td>0.96</td><td>88.94</td><td>1.54</td></tr><tr><th>21</th><td>Ireland</td><td>11.34</td><td>31.16</td><td>4.19</td><td>1139.95</td><td>2.99</td></tr><tr><th>22</th><td>Italy</td><td>14.28</td><td>24.52</td><td>3.48</td><td>1390.0</td><td>3.54</td></tr><tr><th>23</th><td>Japan</td><td>21.1</td><td>27.01</td><td>1.91</td><td>1257.28</td><td>8.21</td></tr><tr><th>24</th><td>Korea</td><td>3.98</td><td>41.74</td><td>0.91</td><td>207.68</td><td>5.81</td></tr><tr><th>25</th><td>Luxembourg</td><td>10.35</td><td>21.8</td><td>3.73</td><td>2449.39</td><td>1.57</td></tr><tr><th>26</th><td>Malta</td><td>15.48</td><td>32.54</td><td>2.47</td><td>601.05</td><td>8.12</td></tr><tr><th>27</th><td>Norway</td><td>10.25</td><td>25.95</td><td>3.67</td><td>2231.03</td><td>3.62</td></tr><tr><th>28</th><td>Netherlands</td><td>14.65</td><td>24.71</td><td>3.25</td><td>1740.7</td><td>7.66</td></tr><tr><th>29</th><td>New Zealand</td><td>10.67</td><td>32.61</td><td>3.17</td><td>1487.52</td><td>1.76</td></tr><tr><th>30</th><td>Nicaragua</td><td>7.3</td><td>45.04</td><td>1.21</td><td>325.54</td><td>2.48</td></tr><tr><th>&vellip;</th><td>&vellip;</td><td>&vellip;</td><td>&vellip;</td><td>&vellip;</td><td>&vellip;</td><td>&vellip;</td></tr></table>"
      ],
      "text/plain": [
       "50×6 DataFrames.DataFrame\n",
       "│ Row │ Country          │ SR    │ Pop15 │ Pop75 │ DPI     │ DDPI  │\n",
       "├─────┼──────────────────┼───────┼───────┼───────┼─────────┼───────┤\n",
       "│ 1   │ \"Australia\"      │ 11.43 │ 29.35 │ 2.87  │ 2329.68 │ 2.87  │\n",
       "│ 2   │ \"Austria\"        │ 12.07 │ 23.32 │ 4.41  │ 1507.99 │ 3.93  │\n",
       "│ 3   │ \"Belgium\"        │ 13.17 │ 23.8  │ 4.43  │ 2108.47 │ 3.82  │\n",
       "│ 4   │ \"Bolivia\"        │ 5.75  │ 41.89 │ 1.67  │ 189.13  │ 0.22  │\n",
       "│ 5   │ \"Brazil\"         │ 12.88 │ 42.19 │ 0.83  │ 728.47  │ 4.56  │\n",
       "│ 6   │ \"Canada\"         │ 8.79  │ 31.72 │ 2.85  │ 2982.88 │ 2.43  │\n",
       "│ 7   │ \"Chile\"          │ 0.6   │ 39.74 │ 1.34  │ 662.86  │ 2.67  │\n",
       "│ 8   │ \"China\"          │ 11.9  │ 44.75 │ 0.67  │ 289.52  │ 6.51  │\n",
       "│ 9   │ \"Colombia\"       │ 4.98  │ 46.64 │ 1.06  │ 276.65  │ 3.08  │\n",
       "│ 10  │ \"Costa Rica\"     │ 10.78 │ 47.64 │ 1.14  │ 471.24  │ 2.8   │\n",
       "│ 11  │ \"Denmark\"        │ 16.85 │ 24.42 │ 3.93  │ 2496.53 │ 3.99  │\n",
       "⋮\n",
       "│ 39  │ \"Sweden\"         │ 6.86  │ 21.44 │ 4.54  │ 3299.49 │ 3.01  │\n",
       "│ 40  │ \"Switzerland\"    │ 14.13 │ 23.49 │ 3.73  │ 2630.96 │ 2.7   │\n",
       "│ 41  │ \"Turkey\"         │ 5.13  │ 43.42 │ 1.08  │ 389.66  │ 2.96  │\n",
       "│ 42  │ \"Tunisia\"        │ 2.81  │ 46.12 │ 1.21  │ 249.87  │ 1.13  │\n",
       "│ 43  │ \"United Kingdom\" │ 7.81  │ 23.27 │ 4.46  │ 1813.93 │ 2.01  │\n",
       "│ 44  │ \"United States\"  │ 7.56  │ 29.81 │ 3.43  │ 4001.89 │ 2.45  │\n",
       "│ 45  │ \"Venezuela\"      │ 9.22  │ 46.4  │ 0.9   │ 813.39  │ 0.53  │\n",
       "│ 46  │ \"Zambia\"         │ 18.56 │ 45.25 │ 0.56  │ 138.33  │ 5.14  │\n",
       "│ 47  │ \"Jamaica\"        │ 7.72  │ 41.12 │ 1.73  │ 380.47  │ 10.23 │\n",
       "│ 48  │ \"Uruguay\"        │ 9.24  │ 28.13 │ 2.72  │ 766.54  │ 1.88  │\n",
       "│ 49  │ \"Libya\"          │ 8.89  │ 43.69 │ 2.07  │ 123.58  │ 16.71 │\n",
       "│ 50  │ \"Malaysia\"       │ 4.71  │ 47.2  │ 0.66  │ 242.69  │ 5.08  │"
      ]
     },
     "execution_count": 56,
     "metadata": {},
     "output_type": "execute_result"
    }
   ],
   "source": [
    "using GLM, RDatasets # Load the packages: Note GLM loads DataFrames for use with functions exported by GLM\n",
    "LifeCycleSavings = dataset(\"datasets\", \"LifeCycleSavings\") # Load the dataset from RDatasets"
   ]
  },
  {
   "cell_type": "code",
   "execution_count": 57,
   "metadata": {
    "collapsed": false
   },
   "outputs": [
    {
     "data": {
      "text/plain": [
       "DataFrames.DataFrameRegressionModel{GLM.LinearModel{GLM.DensePredQR{Float64}},Float64}\n",
       "\n",
       "Formula: SR ~ 1 + Pop15 + Pop75 + DPI + DDPI\n",
       "\n",
       "Coefficients:\n",
       "                 Estimate   Std.Error   t value Pr(>|t|)\n",
       "(Intercept)       28.5661     7.35452   3.88416   0.0003\n",
       "Pop15           -0.461193    0.144642  -3.18851   0.0026\n",
       "Pop75             -1.6915      1.0836    -1.561   0.1255\n",
       "DPI          -0.000336902 0.000931107 -0.361829   0.7192\n",
       "DDPI             0.409695    0.196197   2.08818   0.0425\n"
      ]
     },
     "execution_count": 57,
     "metadata": {},
     "output_type": "execute_result"
    }
   ],
   "source": [
    "# Let's do the regression\n",
    "fm = SR ~ Pop15 + Pop75 + DPI + DDPI\n",
    "fm2 = fit(LinearModel, fm, LifeCycleSavings)"
   ]
  },
  {
   "cell_type": "markdown",
   "metadata": {},
   "source": [
    "#### Managing packages\n",
    "\n",
    "The Julia documentation has a nice section on [Package managment](http://docs.julialang.org/en/release-0.4/manual/packages/). Here are some highlights:\n",
    "\n",
    "To check which packages you have installed:\n",
    "\n",
    "```julia\n",
    "Pkg.installed()\n",
    "```\n",
    "\n",
    "You may wish to check which version of installed packages:\n",
    "\n",
    "```julia\n",
    "Pkg.status()\n",
    "```\n",
    "\n",
    "You can also update packages to the most recent version:\n",
    "\n",
    "```julia\n",
    "Pkg.update()\n",
    "```\n",
    "\n",
    "If you want to remove a package, say GLM:\n",
    "\n",
    "```julia\n",
    "Pkg.rm(\"GLM\")\n",
    "```\n",
    "\n",
    "If you are having a problem using a package ask the [community](https://groups.google.com/forum/#!forum/julia-users) and/or search the database."
   ]
  },
  {
   "cell_type": "markdown",
   "metadata": {},
   "source": [
    "# 5. Developing your own code and packages\n",
    "\n",
    "To develop your own code you will need to familiarise yourself with [modules](http://docs.julialang.org/en/release-0.4/manual/modules/?highlight=modules). \n",
    "\n",
    "Here is a very simple example of a module that does Sparse Grid Integration called [SparseGridsHW](https://github.com/alancrawford/SparseGridsHW)\n",
    "\n",
    "```julia\n",
    "module SparseGridsHW\n",
    "\n",
    "import Base.show # loads other packages that subsequent code depends ons\n",
    "\n",
    "include(\"sparse_grid_hw.jl\") # This calls julia code that does the integration and defines nwspge function\n",
    "\n",
    "export nwspgr # This specifies which function in module i wish to use after loading the module\n",
    "\n",
    "end\n",
    "```\n",
    "\n",
    "In general, you may find it useful to you might find it useful to draw on the examples of mature, existing packages in Julia (i.e. DataFrames.jl, GLM.jl, etc.). In particular, see how they:\n",
    "\n",
    "* set up package folder (i.e. source code into `src`, test code in `tests`, include a README.md)\n",
    "* write source code\n",
    "* test code\n",
    "* create documentation\n",
    "* use Github"
   ]
  },
  {
   "cell_type": "markdown",
   "metadata": {},
   "source": [
    "# 6. Using Julia with Economists:\n",
    "\n",
    "- Specific projects in Julia very useful for Economics \n",
    "    - [Plots](http://plots.readthedocs.io/en/latest/): Data visualization in Julia\n",
    "    - [Julia Stats](http://juliastats.github.io/): Data Frames, Regression, R-like analysis\n",
    "    - [Julia Opt](http://www.juliaopt.org/): Optimisation in julia (incl. AMPL like nonlinear optimisation language called JuMP)\n",
    "    - [Mopt](http://moptjl.readthedocs.io/en/latest/): Likelihood free simulated method of moments in Julia\n",
    "    - ... many [others](http://pkg.julialang.org/) to explore\n"
   ]
  }
 ],
 "metadata": {
  "kernelspec": {
   "display_name": "Julia 0.4.3",
   "language": "julia",
   "name": "julia-0.4"
  },
  "language_info": {
   "file_extension": ".jl",
   "mimetype": "application/julia",
   "name": "julia",
   "version": "0.4.3"
  }
 },
 "nbformat": 4,
 "nbformat_minor": 0
}
