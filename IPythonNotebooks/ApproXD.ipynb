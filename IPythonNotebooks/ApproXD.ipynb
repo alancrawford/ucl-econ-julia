{
 "metadata": {
  "language": "Julia",
  "name": "",
  "signature": "sha256:a19a12a6d93726a9892aa3254fea20804e200047a4df235e85aa60ac205515d5"
 },
 "nbformat": 3,
 "nbformat_minor": 0,
 "worksheets": [
  {
   "cells": [
    {
     "cell_type": "markdown",
     "metadata": {},
     "source": [
      "# Packages and Julia: a case study using `ApproXD.jl` \n",
      "\n",
      "* What are _packages_?\n",
      "* What are _modules_?\n",
      "* Who can write a package?\n",
      "    * Should _you_ write a package?\n",
      "* Where can I find them?\n",
      "\n",
      "## Agenda for today\n",
      "\n",
      "1. What are `module`s?\n",
      "2. What is `ApproXD.jl` good for?\n",
      "3. `using ApproXD.jl` \n",
      "4. Another great interpolation package: `Grid.jl`\n",
      "\n",
      "## 1. What are `modules`?\n",
      "\n",
      "* Think of code _units_: a module groups functions together.\n",
      "* Good way to organize code. \n",
      "    * Some operations (functions) may not be useful for the user to see/use.\n",
      "    * Variable names: each module is a separate _namespace_, thus less scope for name clashes\n",
      "    * keep your workspace tidy\n",
      "* Julia packages are modules."
     ]
    },
    {
     "cell_type": "code",
     "collapsed": false,
     "input": [
      "# our little Test module: Testmod\n",
      "module Testmod\n",
      "    \n",
      "    f(x) = x + 23\n",
      "    f(x::ASCIIString) = println(\"you say $x?\")\n",
      "\n",
      "end"
     ],
     "language": "python",
     "metadata": {},
     "outputs": []
    },
    {
     "cell_type": "markdown",
     "metadata": {},
     "source": [
      "* The [julia manual](http://julia.readthedocs.org/en/latest/manual/modules/) is an excellent source to consult on more info regarding modules.\n",
      "* It's very instructive to look at other people's modules. I recommend `DataFrames.jl`.\n",
      "* We'll look at `ApproXD.jl` instead.\n",
      "\n",
      "## 2. What is `ApproXD.jl` good for?\n",
      "\n",
      "* Let's look at the documentation: head over to https://github.com/floswald/ApproXD.jl\n",
      "* So: linear interpolation and spline interpolation\n"
     ]
    },
    {
     "cell_type": "code",
     "collapsed": false,
     "input": [
      "# you need to install the package:\n",
      "#\u00a0Pkg.clone(\"https://github.com/floswald/ApproXD.jl\")\n",
      "using ApproXD\n",
      "\n",
      "# our true function\n",
      "f(x) = exp(-x^2/2)\n",
      "\n",
      "using Gadfly\n",
      "plot(f,-3,3)\n"
     ],
     "language": "python",
     "metadata": {},
     "outputs": []
    },
    {
     "cell_type": "code",
     "collapsed": false,
     "input": [
      "# our grid of points \n",
      "g = linspace(-3,3,11)\n",
      "# our set of values\n",
      "v = f(g)\n",
      "\n",
      "#\u00a0i.e. we actually \"know\" this\n",
      "plot(x=g,y=v,Geom.point)"
     ],
     "language": "python",
     "metadata": {},
     "outputs": []
    },
    {
     "cell_type": "code",
     "collapsed": false,
     "input": [
      "# and so now lets connect the dots\n",
      "# must give an array of grids, even if just one\n",
      "gs = Array{Float64,1}[]\n",
      "push!(gs,g)\n",
      "L = lininterp(v,gs)"
     ],
     "language": "python",
     "metadata": {},
     "outputs": []
    },
    {
     "cell_type": "code",
     "collapsed": false,
     "input": [
      "newx = linspace(-3,3,100)\n",
      "newv = zeros(100)\n",
      "for i in 1:100 \n",
      "    newv[i] = getValue(L,[newx[i]])[1]   # we want the \"first\" returned value\n",
      "end;\n",
      "\n",
      "# let's see:\n",
      "plot(layer(f,-3,3),\n",
      "layer(x=g,y=v,Geom.point,Theme(default_color=color(\"red\"))),\n",
      "layer(x=newx,y=newv,Geom.line,Theme(default_color=color(\"red\"))))"
     ],
     "language": "python",
     "metadata": {},
     "outputs": []
    },
    {
     "cell_type": "code",
     "collapsed": false,
     "input": [
      "L"
     ],
     "language": "python",
     "metadata": {},
     "outputs": []
    },
    {
     "cell_type": "code",
     "collapsed": false,
     "input": [
      "# what about more dimensions?\n",
      "\n",
      "f(x,y) = 0.75.*x + 1.13.*y    # choose a linear function so that we know true values everywhere\n",
      "xg,yg  = linspace(-3,3,11),linspace(0,3,14)\n",
      "v      = Float64[f(i,j) for i in xg, j in yg]\n",
      "gs     = Array{Float64,1}[]\n",
      "\n",
      "push!(gs,xg,yg)\n",
      "L = lininterp(v,gs)"
     ],
     "language": "python",
     "metadata": {},
     "outputs": []
    },
    {
     "cell_type": "code",
     "collapsed": false,
     "input": [
      "using FactCheck\n",
      "facts() do\n",
      "    randx = rand() * (3-(-3)) + (-3)  # a random number in [-3,3]\n",
      "    randy = rand() * (3-(-0)) + (-0)  # a random number in [0,3]\n",
      "    @fact getValue(L,[randx,randy])[1] => roughly(f(randx,randy),atol=1e-6)\n",
      "end"
     ],
     "language": "python",
     "metadata": {},
     "outputs": []
    },
    {
     "cell_type": "markdown",
     "metadata": {},
     "source": [
      "* What about more dimensions?\n",
      "\n",
      "\n",
      "Suppose you have the following Bellman equation:\n",
      "\n",
      "$$V(a,z,y,p), \\\\ (a,z,y,p) \\in \\mathbb{R}^4$$\n",
      "\n",
      "* you compute an approximation to this continuous function on a discrete set of points\n",
      "* but you want to then evaluate the function away from those grid points.\n",
      "* you will choose 4 uni-dimensional grids and compute the function at their tensor grid (or at _all combinations_)\n",
      "* additional to that, your solution produces optimal consumption and savings functions \n",
      "$$c^*(a,z,y,p) \\\\ s^*(a,z,y,p) \\\\ (a,z,y,p) \\in \\mathbb{R}^4$$\n",
      "which are defined on the same space.\n",
      "* You will draw random values for $z,y,p$ and next period's $a_{t+1} = s^*(a_t,z,y,p)$.\n",
      "* "
     ]
    },
    {
     "cell_type": "code",
     "collapsed": false,
     "input": [
      "#\u00a0specify grids\n",
      "agrid = linspace(0,100,200)\n",
      "zgrid = linspace(-2,2,5)\n",
      "ygrid = linspace(50,150,5)\n",
      "pgrid = linspace(32,180,7);\n",
      "\n",
      "# at each grid point, compute the function V\n",
      "# then you know V at all values in the grid\n",
      "\n",
      "# but what is V(10.23,0,50,180) ?"
     ],
     "language": "python",
     "metadata": {},
     "outputs": []
    }
   ],
   "metadata": {}
  }
 ]
}